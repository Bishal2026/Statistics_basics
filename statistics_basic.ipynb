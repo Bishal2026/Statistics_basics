{
 "cells": [
  {
   "cell_type": "markdown",
   "id": "4fa0bd10-30a9-4c6e-98a8-43e698f3efa4",
   "metadata": {},
   "source": [
    "***Q1***"
   ]
  },
  {
   "cell_type": "markdown",
   "id": "b9259cd9-4cae-4917-8f22-09adea83b8eb",
   "metadata": {},
   "source": [
    "statistics  is the science of collecting , organizing and analyzing data."
   ]
  },
  {
   "cell_type": "markdown",
   "id": "021524a2-4237-4958-b589-24968984cba5",
   "metadata": {},
   "source": [
    "***Q2***"
   ]
  },
  {
   "cell_type": "markdown",
   "id": "7059f2ed-0fbf-473f-aca1-640c6876e75e",
   "metadata": {},
   "source": [
    "Two main types :  descriptive statistics and inferential statistics. "
   ]
  },
  {
   "cell_type": "markdown",
   "id": "ad0d1b4b-9a7f-479b-8b48-1e11debbf0b8",
   "metadata": {},
   "source": [
    "descriptive statics Measures of Central Tendency mean,median and mode etc.\n",
    "\n",
    "Inferential a larger population based on sample data."
   ]
  },
  {
   "cell_type": "markdown",
   "id": "fd265346-2fa3-443b-92b9-cdb1c46dbaa0",
   "metadata": {},
   "source": [
    "***Q3***"
   ]
  },
  {
   "cell_type": "markdown",
   "id": "594277ae-bab8-47a9-9b69-6227d6156d26",
   "metadata": {},
   "source": [
    "Data can be classified into four main types: nominal, ordinal, interval, and ratio.\n",
    "\n",
    "Nominal Data:\n",
    "Gender (Male, Female)\n",
    "Marital Status (Single, Married, Divorced)\n",
    "\n",
    "Ordinal Data:\n",
    "Rating Scale (1-Star, 2-Star, 3-Star, 4-Star, 5-Star)\n",
    "\n",
    "Interval Data:\n",
    "Temperature in Celsius or Fahrenheit (0 degrees does not indicate an absence of temperature)\n",
    "\n",
    "Ratio Data:\n",
    " Income (measured in dollars)   "
   ]
  },
  {
   "cell_type": "markdown",
   "id": "32f8fbd4-856c-461f-8a75-c5c89255713d",
   "metadata": {},
   "source": [
    "***Q4***"
   ]
  },
  {
   "cell_type": "markdown",
   "id": "f77e7ae7-01c7-4333-a661-8d1faf77058d",
   "metadata": {},
   "source": [
    "(i) and (ii) represent qualitative data.\n",
    "\n",
    "(iii) and (iv) represent quantitative data."
   ]
  },
  {
   "cell_type": "markdown",
   "id": "bd07dfcb-8de9-4291-9787-57399badd73d",
   "metadata": {},
   "source": [
    "***Q5***"
   ]
  },
  {
   "cell_type": "markdown",
   "id": "20175ecd-b38b-48da-82b7-2d98e168e74f",
   "metadata": {},
   "source": [
    "Nominal level: Eye color\n",
    "\n",
    "Ordinal level: Education level\n",
    "\n",
    "Interval level: Temperature\n",
    "\n",
    "Ratio level: Height"
   ]
  },
  {
   "cell_type": "markdown",
   "id": "b64063cf-0c5a-4982-af9e-c6300522a2c1",
   "metadata": {},
   "source": [
    "***Q6***"
   ]
  },
  {
   "cell_type": "markdown",
   "id": "8b054f38-b2e8-4751-b7c2-d5354c0929f9",
   "metadata": {},
   "source": [
    "\n",
    "Understanding the level of measurement when analyzing data is crucial because it determines the appropriate statistical techniques, operations, and inferences that can be applied to the data. Here's an example to illustrate why it's important:\n",
    "\n",
    "Let's consider a scenario where we want to analyze the effectiveness of different pain relief treatments. We collect data on pain relief levels from participants who received treatment A, treatment B, and treatment C. The pain relief levels are recorded using three different scales:\n",
    "\n",
    "Nominal Scale: Participants are categorized into three groups: No Relief, Moderate Relief, and High Relief. We have no inherent order or numerical meaning associated with these categories.\n",
    "\n",
    "Ordinal Scale: Participants are ranked based on the degree of pain relief: Low, Medium, and High. The order is meaningful, but the differences between the categories may not be equal.\n",
    "\n",
    "Interval Scale: Participants rate their pain relief on a scale of 1 to 10, where 1 represents no relief and 10 represents the highest relief. The differences between the values are consistent and quantifiable, but there is no true zero point."
   ]
  },
  {
   "cell_type": "markdown",
   "id": "9e67e9b1-3172-4089-8182-0f075ea358ba",
   "metadata": {},
   "source": [
    "***Q7***"
   ]
  },
  {
   "cell_type": "markdown",
   "id": "b8ea138e-d5a1-4919-9fc4-b4f43356de8b",
   "metadata": {},
   "source": [
    "Nominal Data:\n",
    "Nominal data represents categories or groups that have no inherent order or ranking. In this type of data, the categories are mutually exclusive and cannot be ranked or ordered. Examples of nominal data include:\n",
    "\n",
    "Colors: Red, Blue, Green\n",
    "Countries: USA, Canada, Australia.\n",
    "\n",
    "\n",
    "Ordinal Data:\n",
    "Ordinal data, on the other hand, represents categories or groups that have a natural order or ranking. The categories in ordinal data can be arranged in a specific order or sequence based on a certain criterion. Examples of ordinal data include:\n",
    "\n",
    "Educational Levels: Elementary, Middle School, High School, College"
   ]
  },
  {
   "cell_type": "markdown",
   "id": "0a6c6119-4bd2-4e0e-ab1a-b4b0d19ce167",
   "metadata": {},
   "source": [
    "***Q8***"
   ]
  },
  {
   "cell_type": "markdown",
   "id": "0ed0e720-4387-4198-8b8e-31272f0a8e0a",
   "metadata": {},
   "source": [
    "To display data in terms of range, we use a box plot"
   ]
  },
  {
   "cell_type": "markdown",
   "id": "227b8e4f-28ff-4b8d-8998-44fa7f843488",
   "metadata": {},
   "source": [
    "***Q9***"
   ]
  },
  {
   "cell_type": "markdown",
   "id": "404701be-c3de-42fc-a4a7-1a15d9816a1f",
   "metadata": {},
   "source": [
    "Descriptive Statistics:\n",
    "Descriptive statistics involves summarizing and presenting data in a meaningful and concise manner. It focuses on describing the main features of a dataset.\n",
    "Example:\n",
    " Let's consider a dataset of the heights of students in a class. Descriptive statistics would involve calculating measures such as the mean, median, and standard deviation of the heights. \n",
    "\n",
    "Inferential Statistics:\n",
    "Inferential statistics involves drawing conclusions or making inferences about a population based on a sample of data.\n",
    "Example:\n",
    "\n",
    "Suppose a researcher wants to investigate whether there is a significant difference in test scores between two groups of students, Group A and Group B. \n"
   ]
  },
  {
   "cell_type": "markdown",
   "id": "b0fadd7e-876a-45bd-9d17-74ea8bd8ced6",
   "metadata": {},
   "source": [
    "***Q10***"
   ]
  },
  {
   "cell_type": "markdown",
   "id": "7ab8dcca-ec07-4b35-8c7d-b3d5cbcc55f9",
   "metadata": {},
   "source": [
    "Measures of Central Tendency:\n",
    "    \n",
    " Mean:\n",
    "    \n",
    "   It represents the typical or average value in the dataset.\n",
    "\n",
    "Example: The mean can be used to describe the average income of a group of individuals, providing a single value that represents their collective earnings.\n",
    "\n",
    " Median: \n",
    "        \n",
    "        The median is the middle value in a dataset when it is arranged in ascending or descending order.\n",
    "\n",
    "Example: The median can be used to describe the typical salary in a company, where extreme salaries at the high or low end may distort the mean but have less effect on the median.\n",
    "\n",
    " Mode: \n",
    "        \n",
    "    The mode is the most frequently occurring value in a dataset.\n",
    "    \n",
    "Example: The mode can be used to describe the most common eye color in a population, providing information about the dominant characteristic.\n",
    "\n",
    "\n",
    "Measures of Variability:\n",
    "    \n",
    "   Range:   \n",
    "    Example: The range can be used to describe the variation in temperatures recorded in a city over a specific period, indicating the highest and lowest values observed.\n",
    "    \n",
    "Variance:\n",
    "    \n",
    "    Example: Variance can be used to describe the variability in test scores among students in a class, quantifying how much their scores deviate from the class average.\n",
    "\n",
    " Standard Deviation: \n",
    "    \n",
    "    \n",
    "   Example: The standard deviation can be used to describe the variability of stock prices, indicating how much the prices fluctuate around the average price. "
   ]
  },
  {
   "cell_type": "code",
   "execution_count": null,
   "id": "6a2e7d8e-b41f-4a7c-a932-092d6884c079",
   "metadata": {},
   "outputs": [],
   "source": []
  }
 ],
 "metadata": {
  "kernelspec": {
   "display_name": "Python 3 (ipykernel)",
   "language": "python",
   "name": "python3"
  },
  "language_info": {
   "codemirror_mode": {
    "name": "ipython",
    "version": 3
   },
   "file_extension": ".py",
   "mimetype": "text/x-python",
   "name": "python",
   "nbconvert_exporter": "python",
   "pygments_lexer": "ipython3",
   "version": "3.10.9"
  }
 },
 "nbformat": 4,
 "nbformat_minor": 5
}
